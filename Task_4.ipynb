{
 "cells": [
  {
   "attachments": {},
   "cell_type": "markdown",
   "metadata": {},
   "source": [
    "# Задание 5.\n",
    "\n",
    "Загрузите [данные по изменению температуры поверхности земли](https://www.kaggle.com/datasets/berkeleyearth/climate-change-earth-surface-temperature-data). Для этого может понадобится зарегистрироваться на [Kaggle](https://kaggle.com). Затем нужно будет работать с данными, которые содержатся в файле **GlobalLandTemperaturesByMajorCity.csv**\n",
    "\n",
    "**NB** Все подсчеты необходимо делать с помощью `PySpark`, без применения `pandas api`. Можно использоать `SQL`."
   ]
  },
  {
   "cell_type": "code",
   "execution_count": null,
   "metadata": {},
   "outputs": [],
   "source": [
    "import zipfile\n",
    "\n",
    "import pandas as pd\n",
    "import matplotlib.pyplot as plt\n",
    "\n",
    "from pyspark.sql import SparkSession\n",
    "\n",
    "%matplotlib inline\n",
    "\n",
    "spark = SparkSession \\\n",
    "    .builder \\\n",
    "    .master(\"local[*]\") \\\n",
    "    .appName(\"PySpark\") \\\n",
    "    .getOrCreate()\n",
    "\n",
    "with zipfile.ZipFile(\"archive.zip\") as z:\n",
    "    with z.open(\"GlobalLandTemperaturesByMajorCity.csv\") as f:\n",
    "        pandas_df = pd.read_csv(f)\n",
    "        df = spark.createDataFrame(pandas_df)\n",
    "\n",
    "df.show(10)"
   ]
  },
  {
   "cell_type": "markdown",
   "metadata": {},
   "source": [
    "# Задание 4.1 (1 балл)\n",
    "\n",
    "В последующих заданиях будут учитываться данные начиная с 01.01.1950. Для этого создайте новый `DataFrame`, в котором удалены все строки до 01.01.1950. Используйте созданный DataFrame в последующих заданиях.  "
   ]
  },
  {
   "cell_type": "code",
   "execution_count": 3,
   "metadata": {},
   "outputs": [
    {
     "name": "stdout",
     "output_type": "stream",
     "text": [
      "+----------+------------------+-----------------------------+-------+-------------+--------+---------+\n",
      "|        dt|AverageTemperature|AverageTemperatureUncertainty|   City|      Country|Latitude|Longitude|\n",
      "+----------+------------------+-----------------------------+-------+-------------+--------+---------+\n",
      "|1950-01-01|             26.77|                        0.239|Abidjan|Côte D'Ivoire|   5.63N|    3.23W|\n",
      "|1950-02-01|             27.53|                        0.348|Abidjan|Côte D'Ivoire|   5.63N|    3.23W|\n",
      "|1950-03-01|             28.34|                        0.431|Abidjan|Côte D'Ivoire|   5.63N|    3.23W|\n",
      "|1950-04-01|             27.83|                        0.467|Abidjan|Côte D'Ivoire|   5.63N|    3.23W|\n",
      "|1950-05-01|              26.9|                        0.248|Abidjan|Côte D'Ivoire|   5.63N|    3.23W|\n",
      "|1950-06-01|             25.45|                        0.209|Abidjan|Côte D'Ivoire|   5.63N|    3.23W|\n",
      "|1950-07-01|             24.88|                        0.403|Abidjan|Côte D'Ivoire|   5.63N|    3.23W|\n",
      "|1950-08-01|             23.73|                        0.314|Abidjan|Côte D'Ivoire|   5.63N|    3.23W|\n",
      "|1950-09-01|             24.25|                        0.257|Abidjan|Côte D'Ivoire|   5.63N|    3.23W|\n",
      "|1950-10-01|             25.27|                        0.191|Abidjan|Côte D'Ivoire|   5.63N|    3.23W|\n",
      "+----------+------------------+-----------------------------+-------+-------------+--------+---------+\n",
      "only showing top 10 rows\n",
      "\n"
     ]
    }
   ],
   "source": [
    "\n",
    "from pyspark.sql import SparkSession\n",
    "from pyspark.sql.functions import col, to_date, round\n",
    "\n",
    "# Создание SparkSession\n",
    "spark = SparkSession.builder.master(\"local[*]\").appName(\"PySpark\").getOrCreate()\n",
    "\n",
    "# Путь к файлу\n",
    "file_path = 'C:/Users/MSI-PC/Desktop/my tipo dz po pitonu/task-4-2024/GlobalLandTemperaturesByMajorCity.csv'\n",
    "\n",
    "df = spark.read.csv(file_path, header=True, inferSchema=True)\n",
    "\n",
    "# Преобразование столбца с датами в формат даты\n",
    "df = df.withColumn('dt', to_date(col('dt'), 'yyyy-MM-dd'))\n",
    "\n",
    "# Фильтрация строк\n",
    "filtered_df = df.filter(col('dt') >= '1950-01-01')\n",
    "\n",
    "rounded_df = filtered_df.withColumn('AverageTemperature', round(col('AverageTemperature'), 2))\n",
    "\n",
    "rounded_df.show(10)\n",
    "\n"
   ]
  },
  {
   "cell_type": "markdown",
   "metadata": {},
   "source": [
    "# Задание 4.2 (2 балла)\n",
    "\n",
    "Найдите город, для которого выборочная дисперсия температур на приведенных данных максимальна. "
   ]
  },
  {
   "cell_type": "code",
   "execution_count": 4,
   "metadata": {},
   "outputs": [
    {
     "name": "stdout",
     "output_type": "stream",
     "text": [
      "Город с максимальной дисперсией: Harbin, Дисперсия: 218.898615951821\n"
     ]
    }
   ],
   "source": [
    "from pyspark.sql import SparkSession\n",
    "from pyspark.sql.functions import col, to_date, variance\n",
    "\n",
    "# Создание SparkSession\n",
    "spark = SparkSession.builder.master(\"local[*]\").appName(\"PySpark\").getOrCreate()\n",
    "\n",
    "# Путь к файлу\n",
    "file_path = 'C:/Users/MSI-PC/Desktop/my tipo dz po pitonu/task-4-2024/GlobalLandTemperaturesByMajorCity.csv'\n",
    "\n",
    "df = spark.read.csv(file_path, header=True, inferSchema=True)\n",
    "\n",
    "# Вычисление выборочной дисперсии температур для каждого города\n",
    "variance_df = filtered_df.groupBy('City').agg(variance(col('AverageTemperature')).alias('temp_variance'))\n",
    "\n",
    "# Поиск города с максимальной дисперсией\n",
    "max_variance_city = variance_df.orderBy(col('temp_variance').desc()).first()\n",
    "\n",
    "# Вывод ответа\n",
    "print(f\"Город с максимальной дисперсией: {max_variance_city['City']}, Дисперсия: {max_variance_city['temp_variance']}\")\n",
    "\n",
    "# Остановка SparkSession\n",
    "spark.stop()\n"
   ]
  },
  {
   "cell_type": "markdown",
   "metadata": {},
   "source": [
    "# Задание 4.3 (2 баллов)\n",
    "\n",
    "Посчитайте данные по среднегодовой температуре в Санкт-Петербурге. Определите года, в которых средняя температура была выше, чем в предыдущем  и последующем году. "
   ]
  },
  {
   "cell_type": "code",
   "execution_count": 5,
   "metadata": {},
   "outputs": [
    {
     "name": "stdout",
     "output_type": "stream",
     "text": [
      "+----+------------------+------------------+------------------+\n",
      "|year|          avg_temp|     prev_avg_temp|     next_avg_temp|\n",
      "+----+------------------+------------------+------------------+\n",
      "|1744|             6.192|             0.416|          -6.38575|\n",
      "|1754|3.8869166666666657|3.7727500000000003| 3.849083333333334|\n",
      "|1757| 4.532916666666667|           4.18025|2.1264166666666666|\n",
      "|1759|3.5047499999999996|2.1264166666666666|           2.19575|\n",
      "|1761| 4.078166666666667|           2.19575|           3.87675|\n",
      "|1764| 4.192166666666666|2.8677499999999996|3.9683333333333324|\n",
      "|1766| 4.296833333333333|3.9683333333333324|3.8264999999999993|\n",
      "|1770|3.8831666666666664|3.7726666666666673|2.9468333333333336|\n",
      "|1773| 4.927666666666667| 3.447249999999999| 3.911749999999999|\n",
      "|1775| 5.293666666666666| 3.911749999999999| 4.320916666666666|\n",
      "|1779| 5.063166666666667|3.9546666666666668| 3.489166666666667|\n",
      "|1781|3.8560000000000003| 3.489166666666667|2.8357500000000004|\n",
      "|1783|3.8662499999999995|2.8357500000000004| 3.210666666666667|\n",
      "|1787| 4.066583333333334|2.9065833333333337|3.0575000000000006|\n",
      "|1789| 4.457583333333333|3.0575000000000006|3.6970833333333335|\n",
      "|1791|4.8406666666666665|3.6970833333333335| 3.735583333333333|\n",
      "|1794|             5.347| 4.462083333333333|             3.587|\n",
      "|1797| 5.303000000000001| 4.301500000000001| 4.684083333333333|\n",
      "|1801|            4.2825| 3.411166666666667|3.7565833333333334|\n",
      "|1804|3.5085833333333323|           2.98475|3.2304999999999997|\n",
      "+----+------------------+------------------+------------------+\n",
      "only showing top 20 rows\n",
      "\n"
     ]
    }
   ],
   "source": [
    "from pyspark.sql import SparkSession\n",
    "from pyspark.sql.functions import col, year, avg, lag\n",
    "from pyspark.sql.window import Window\n",
    "\n",
    "# Создание SparkSession\n",
    "spark = SparkSession.builder.master(\"local[*]\").appName(\"PySpark\").getOrCreate()\n",
    "\n",
    "# Путь к файлу\n",
    "file_path = 'C:/Users/MSI-PC/Desktop/my tipo dz po pitonu/task-4-2024/GlobalLandTemperaturesByMajorCity.csv'\n",
    "\n",
    "df = spark.read.csv(file_path, header=True, inferSchema=True)\n",
    "\n",
    "# Преобразование столбца с датами в формат даты\n",
    "df = df.withColumn('dt', to_date(col('dt'), 'yyyy-MM-dd'))\n",
    "\n",
    "# Фильтрация строк, относящихся к Санкт-Петербургу\n",
    "spb_df = df.filter(col('City') == 'Saint Petersburg')\n",
    "\n",
    "# Вычисление среднегодовой температуры\n",
    "yearly_avg_temp_df = spb_df.withColumn('year', year(col('dt'))) \\\n",
    "    .groupBy('year') \\\n",
    "    .agg(avg(col('AverageTemperature')).alias('avg_temp')) \\\n",
    "    .orderBy('year')\n",
    "\n",
    "window_spec = Window.orderBy('year')\n",
    "yearly_avg_temp_df = yearly_avg_temp_df.withColumn('prev_avg_temp', lag('avg_temp').over(window_spec)) \\\n",
    "    .withColumn('next_avg_temp', lag('avg_temp', -1).over(window_spec))\n",
    "\n",
    "# Поиск по году\n",
    "peak_years_df = yearly_avg_temp_df.filter((col('avg_temp') > col('prev_avg_temp')) & (col('avg_temp') > col('next_avg_temp')))\n",
    "\n",
    "# Вывод результата\n",
    "peak_years_df.show()\n",
    "\n",
    "# Остановка SparkSession\n",
    "spark.stop()\n"
   ]
  },
  {
   "cell_type": "markdown",
   "metadata": {},
   "source": [
    "# Задание 4.4 (4 балла)\n",
    "\n",
    "Найдите города, для которых: \n",
    "1. Разница между максимальным и минимальным значением среднегодовой температуры в выборке максимальна.\n",
    "2. Самая большая средняя разница между средней температурой января и средней температурой июля.\n",
    "3. Наибольшее среднее количество месяцев с отрицательной температурой в году."
   ]
  },
  {
   "cell_type": "code",
   "execution_count": null,
   "metadata": {},
   "outputs": [],
   "source": []
  },
  {
   "cell_type": "markdown",
   "metadata": {},
   "source": []
  }
 ],
 "metadata": {
  "kernelspec": {
   "display_name": "Python 3.10.6 64-bit",
   "language": "python",
   "name": "python3"
  },
  "language_info": {
   "codemirror_mode": {
    "name": "ipython",
    "version": 3
   },
   "file_extension": ".py",
   "mimetype": "text/x-python",
   "name": "python",
   "nbconvert_exporter": "python",
   "pygments_lexer": "ipython3",
   "version": "3.10.8"
  },
  "orig_nbformat": 4,
  "vscode": {
   "interpreter": {
    "hash": "916dbcbb3f70747c44a77c7bcd40155683ae19c65e1c03b4aa3499c5328201f1"
   }
  }
 },
 "nbformat": 4,
 "nbformat_minor": 2
}

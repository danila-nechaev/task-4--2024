{
 "cells": [
  {
   "attachments": {},
   "cell_type": "markdown",
   "metadata": {},
   "source": [
    "# Задание 5.\n",
    "\n",
    "Загрузите [данные по изменению температуры поверхности земли](https://www.kaggle.com/datasets/berkeleyearth/climate-change-earth-surface-temperature-data). Для этого может понадобится зарегистрироваться на [Kaggle](https://kaggle.com). Затем нужно будет работать с данными, которые содержатся в файле **GlobalLandTemperaturesByMajorCity.csv**\n",
    "\n",
    "**NB** Все подсчеты необходимо делать с помощью `PySpark`, без применения `pandas api`. Можно использоать `SQL`."
   ]
  },
  {
   "cell_type": "code",
   "execution_count": null,
   "metadata": {},
   "outputs": [],
   "source": [
    "import zipfile\n",
    "\n",
    "import pandas as pd\n",
    "import matplotlib.pyplot as plt\n",
    "\n",
    "from pyspark.sql import SparkSession\n",
    "\n",
    "%matplotlib inline\n",
    "\n",
    "spark = SparkSession \\\n",
    "    .builder \\\n",
    "    .master(\"local[*]\") \\\n",
    "    .appName(\"PySpark\") \\\n",
    "    .getOrCreate()\n",
    "\n",
    "with zipfile.ZipFile(\"archive.zip\") as z:\n",
    "    with z.open(\"GlobalLandTemperaturesByMajorCity.csv\") as f:\n",
    "        pandas_df = pd.read_csv(f)\n",
    "        df = spark.createDataFrame(pandas_df)\n",
    "\n",
    "df.show(10)"
   ]
  },
  {
   "cell_type": "markdown",
   "metadata": {},
   "source": [
    "# Задание 4.1 (1 балл)\n",
    "\n",
    "В последующих заданиях будут учитываться данные начиная с 01.01.1950. Для этого создайте новый `DataFrame`, в котором удалены все строки до 01.01.1950. Используйте созданный DataFrame в последующих заданиях.  "
   ]
  },
  {
   "cell_type": "code",
   "execution_count": 3,
   "metadata": {},
   "outputs": [
    {
     "name": "stdout",
     "output_type": "stream",
     "text": [
      "+----------+------------------+-----------------------------+-------+-------------+--------+---------+\n",
      "|        dt|AverageTemperature|AverageTemperatureUncertainty|   City|      Country|Latitude|Longitude|\n",
      "+----------+------------------+-----------------------------+-------+-------------+--------+---------+\n",
      "|1950-01-01|             26.77|                        0.239|Abidjan|Côte D'Ivoire|   5.63N|    3.23W|\n",
      "|1950-02-01|             27.53|                        0.348|Abidjan|Côte D'Ivoire|   5.63N|    3.23W|\n",
      "|1950-03-01|             28.34|                        0.431|Abidjan|Côte D'Ivoire|   5.63N|    3.23W|\n",
      "|1950-04-01|             27.83|                        0.467|Abidjan|Côte D'Ivoire|   5.63N|    3.23W|\n",
      "|1950-05-01|              26.9|                        0.248|Abidjan|Côte D'Ivoire|   5.63N|    3.23W|\n",
      "|1950-06-01|             25.45|                        0.209|Abidjan|Côte D'Ivoire|   5.63N|    3.23W|\n",
      "|1950-07-01|             24.88|                        0.403|Abidjan|Côte D'Ivoire|   5.63N|    3.23W|\n",
      "|1950-08-01|             23.73|                        0.314|Abidjan|Côte D'Ivoire|   5.63N|    3.23W|\n",
      "|1950-09-01|             24.25|                        0.257|Abidjan|Côte D'Ivoire|   5.63N|    3.23W|\n",
      "|1950-10-01|             25.27|                        0.191|Abidjan|Côte D'Ivoire|   5.63N|    3.23W|\n",
      "+----------+------------------+-----------------------------+-------+-------------+--------+---------+\n",
      "only showing top 10 rows\n",
      "\n"
     ]
    }
   ],
   "source": [
    "\n",
    "from pyspark.sql import SparkSession\n",
    "from pyspark.sql.functions import col, to_date, round\n",
    "\n",
    "# Создание SparkSession\n",
    "spark = SparkSession.builder.master(\"local[*]\").appName(\"PySpark\").getOrCreate()\n",
    "\n",
    "# Путь к файлу\n",
    "file_path = 'C:/Users/MSI-PC/Desktop/my tipo dz po pitonu/task-4-2024/GlobalLandTemperaturesByMajorCity.csv'\n",
    "\n",
    "df = spark.read.csv(file_path, header=True, inferSchema=True)\n",
    "\n",
    "# Преобразование столбца с датами в формат даты\n",
    "df = df.withColumn('dt', to_date(col('dt'), 'yyyy-MM-dd'))\n",
    "\n",
    "# Фильтрация строк\n",
    "filtered_df = df.filter(col('dt') >= '1950-01-01')\n",
    "\n",
    "rounded_df = filtered_df.withColumn('AverageTemperature', round(col('AverageTemperature'), 2))\n",
    "\n",
    "rounded_df.show(10)\n",
    "\n"
   ]
  },
  {
   "cell_type": "markdown",
   "metadata": {},
   "source": [
    "# Задание 4.2 (2 балла)\n",
    "\n",
    "Найдите город, для которого выборочная дисперсия температур на приведенных данных максимальна. "
   ]
  },
  {
   "cell_type": "code",
   "execution_count": 4,
   "metadata": {},
   "outputs": [
    {
     "name": "stdout",
     "output_type": "stream",
     "text": [
      "Город с максимальной дисперсией: Harbin, Дисперсия: 218.898615951821\n"
     ]
    }
   ],
   "source": [
    "from pyspark.sql import SparkSession\n",
    "from pyspark.sql.functions import col, to_date, variance\n",
    "\n",
    "# Создание SparkSession\n",
    "spark = SparkSession.builder.master(\"local[*]\").appName(\"PySpark\").getOrCreate()\n",
    "\n",
    "# Путь к файлу\n",
    "file_path = 'C:/Users/MSI-PC/Desktop/my tipo dz po pitonu/task-4-2024/GlobalLandTemperaturesByMajorCity.csv'\n",
    "\n",
    "df = spark.read.csv(file_path, header=True, inferSchema=True)\n",
    "\n",
    "# Вычисление выборочной дисперсии температур для каждого города\n",
    "variance_df = filtered_df.groupBy('City').agg(variance(col('AverageTemperature')).alias('temp_variance'))\n",
    "\n",
    "# Поиск города с максимальной дисперсией\n",
    "max_variance_city = variance_df.orderBy(col('temp_variance').desc()).first()\n",
    "\n",
    "# Вывод ответа\n",
    "print(f\"Город с максимальной дисперсией: {max_variance_city['City']}, Дисперсия: {max_variance_city['temp_variance']}\")\n",
    "\n",
    "# Остановка SparkSession\n",
    "spark.stop()\n"
   ]
  },
  {
   "cell_type": "markdown",
   "metadata": {},
   "source": [
    "# Задание 4.3 (2 баллов)\n",
    "\n",
    "Посчитайте данные по среднегодовой температуре в Санкт-Петербурге. Определите года, в которых средняя температура была выше, чем в предыдущем  и последующем году. "
   ]
  },
  {
   "cell_type": "code",
   "execution_count": 5,
   "metadata": {},
   "outputs": [
    {
     "name": "stdout",
     "output_type": "stream",
     "text": [
      "+----+------------------+------------------+------------------+\n",
      "|year|          avg_temp|     prev_avg_temp|     next_avg_temp|\n",
      "+----+------------------+------------------+------------------+\n",
      "|1744|             6.192|             0.416|          -6.38575|\n",
      "|1754|3.8869166666666657|3.7727500000000003| 3.849083333333334|\n",
      "|1757| 4.532916666666667|           4.18025|2.1264166666666666|\n",
      "|1759|3.5047499999999996|2.1264166666666666|           2.19575|\n",
      "|1761| 4.078166666666667|           2.19575|           3.87675|\n",
      "|1764| 4.192166666666666|2.8677499999999996|3.9683333333333324|\n",
      "|1766| 4.296833333333333|3.9683333333333324|3.8264999999999993|\n",
      "|1770|3.8831666666666664|3.7726666666666673|2.9468333333333336|\n",
      "|1773| 4.927666666666667| 3.447249999999999| 3.911749999999999|\n",
      "|1775| 5.293666666666666| 3.911749999999999| 4.320916666666666|\n",
      "|1779| 5.063166666666667|3.9546666666666668| 3.489166666666667|\n",
      "|1781|3.8560000000000003| 3.489166666666667|2.8357500000000004|\n",
      "|1783|3.8662499999999995|2.8357500000000004| 3.210666666666667|\n",
      "|1787| 4.066583333333334|2.9065833333333337|3.0575000000000006|\n",
      "|1789| 4.457583333333333|3.0575000000000006|3.6970833333333335|\n",
      "|1791|4.8406666666666665|3.6970833333333335| 3.735583333333333|\n",
      "|1794|             5.347| 4.462083333333333|             3.587|\n",
      "|1797| 5.303000000000001| 4.301500000000001| 4.684083333333333|\n",
      "|1801|            4.2825| 3.411166666666667|3.7565833333333334|\n",
      "|1804|3.5085833333333323|           2.98475|3.2304999999999997|\n",
      "+----+------------------+------------------+------------------+\n",
      "only showing top 20 rows\n",
      "\n"
     ]
    }
   ],
   "source": [
    "from pyspark.sql import SparkSession\n",
    "from pyspark.sql.functions import col, year, avg, lag\n",
    "from pyspark.sql.window import Window\n",
    "\n",
    "# Создание SparkSession\n",
    "spark = SparkSession.builder.master(\"local[*]\").appName(\"PySpark\").getOrCreate()\n",
    "\n",
    "# Путь к файлу\n",
    "file_path = 'C:/Users/MSI-PC/Desktop/my tipo dz po pitonu/task-4-2024/GlobalLandTemperaturesByMajorCity.csv'\n",
    "\n",
    "df = spark.read.csv(file_path, header=True, inferSchema=True)\n",
    "\n",
    "# Преобразование столбца с датами в формат даты\n",
    "df = df.withColumn('dt', to_date(col('dt'), 'yyyy-MM-dd'))\n",
    "\n",
    "# Фильтрация строк, относящихся к Санкт-Петербургу\n",
    "spb_df = df.filter(col('City') == 'Saint Petersburg')\n",
    "\n",
    "# Вычисление среднегодовой температуры\n",
    "yearly_avg_temp_df = spb_df.withColumn('year', year(col('dt'))) \\\n",
    "    .groupBy('year') \\\n",
    "    .agg(avg(col('AverageTemperature')).alias('avg_temp')) \\\n",
    "    .orderBy('year')\n",
    "\n",
    "window_spec = Window.orderBy('year')\n",
    "yearly_avg_temp_df = yearly_avg_temp_df.withColumn('prev_avg_temp', lag('avg_temp').over(window_spec)) \\\n",
    "    .withColumn('next_avg_temp', lag('avg_temp', -1).over(window_spec))\n",
    "\n",
    "# Поиск по году\n",
    "peak_years_df = yearly_avg_temp_df.filter((col('avg_temp') > col('prev_avg_temp')) & (col('avg_temp') > col('next_avg_temp')))\n",
    "\n",
    "# Вывод результата\n",
    "peak_years_df.show()\n",
    "\n",
    "# Остановка SparkSession\n",
    "spark.stop()\n"
   ]
  },
  {
   "cell_type": "markdown",
   "metadata": {},
   "source": [
    "# Задание 4.4 (4 балла)\n",
    "\n",
    "Найдите города, для которых: \n",
    "1. Разница между максимальным и минимальным значением среднегодовой температуры в выборке максимальна.\n",
    "2. Самая большая средняя разница между средней температурой января и средней температурой июля.\n",
    "3. Наибольшее среднее количество месяцев с отрицательной температурой в году."
   ]
  },
  {
   "cell_type": "code",
   "execution_count": 7,
   "metadata": {},
   "outputs": [
    {
     "name": "stdout",
     "output_type": "stream",
     "text": [
      "City with maximum temperature range: Montreal, Range: 13.92222222222222\n"
     ]
    },
    {
     "ename": "AnalysisException",
     "evalue": "[UNRESOLVED_COLUMN.WITH_SUGGESTION] A column or function parameter with name `1` cannot be resolved. Did you mean one of the following? [`dt`, `City`, `year`, `month`, `Country`].;\n'Project [dt#622, AverageTemperature#631, AverageTemperatureUncertainty#610, City#611, Country#612, Latitude#613, Longitude#614, year#701, month#710, abs(('1 - '7)) AS temp_diff#720]\n+- Filter month#710 IN (1,7)\n   +- Project [dt#622, AverageTemperature#631, AverageTemperatureUncertainty#610, City#611, Country#612, Latitude#613, Longitude#614, year#701, month(dt#622) AS month#710]\n      +- Project [dt#622, AverageTemperature#631, AverageTemperatureUncertainty#610, City#611, Country#612, Latitude#613, Longitude#614, year(dt#622) AS year#701]\n         +- Project [dt#622, round(AverageTemperature#609, 2) AS AverageTemperature#631, AverageTemperatureUncertainty#610, City#611, Country#612, Latitude#613, Longitude#614]\n            +- Project [to_date(dt#608, Some(yyyy-MM-dd), Some(GMT+03:00), false) AS dt#622, AverageTemperature#609, AverageTemperatureUncertainty#610, City#611, Country#612, Latitude#613, Longitude#614]\n               +- Relation [dt#608,AverageTemperature#609,AverageTemperatureUncertainty#610,City#611,Country#612,Latitude#613,Longitude#614] csv\n",
     "output_type": "error",
     "traceback": [
      "\u001b[1;31m---------------------------------------------------------------------------\u001b[0m",
      "\u001b[1;31mAnalysisException\u001b[0m                         Traceback (most recent call last)",
      "Cell \u001b[1;32mIn [7], line 40\u001b[0m\n\u001b[0;32m     35\u001b[0m \u001b[38;5;66;03m# --- Задача 2 ---\u001b[39;00m\n\u001b[0;32m     36\u001b[0m \u001b[38;5;66;03m# Вычисление средней разницы между средней температурой января и июля для каждого города\u001b[39;00m\n\u001b[0;32m     37\u001b[0m monthly_avg_temp_df \u001b[38;5;241m=\u001b[39m df\u001b[38;5;241m.\u001b[39mwithColumn(\u001b[38;5;124m'\u001b[39m\u001b[38;5;124myear\u001b[39m\u001b[38;5;124m'\u001b[39m, year(col(\u001b[38;5;124m'\u001b[39m\u001b[38;5;124mdt\u001b[39m\u001b[38;5;124m'\u001b[39m)))\u001b[38;5;241m.\u001b[39mwithColumn(\u001b[38;5;124m'\u001b[39m\u001b[38;5;124mmonth\u001b[39m\u001b[38;5;124m'\u001b[39m, month(col(\u001b[38;5;124m'\u001b[39m\u001b[38;5;124mdt\u001b[39m\u001b[38;5;124m'\u001b[39m)))\n\u001b[0;32m     39\u001b[0m jan_jul_diff_df \u001b[38;5;241m=\u001b[39m \u001b[43mmonthly_avg_temp_df\u001b[49m\u001b[38;5;241;43m.\u001b[39;49m\u001b[43mfilter\u001b[49m\u001b[43m(\u001b[49m\u001b[43mcol\u001b[49m\u001b[43m(\u001b[49m\u001b[38;5;124;43m'\u001b[39;49m\u001b[38;5;124;43mmonth\u001b[39;49m\u001b[38;5;124;43m'\u001b[39;49m\u001b[43m)\u001b[49m\u001b[38;5;241;43m.\u001b[39;49m\u001b[43misin\u001b[49m\u001b[43m(\u001b[49m\u001b[43m[\u001b[49m\u001b[38;5;241;43m1\u001b[39;49m\u001b[43m,\u001b[49m\u001b[43m \u001b[49m\u001b[38;5;241;43m7\u001b[39;49m\u001b[43m]\u001b[49m\u001b[43m)\u001b[49m\u001b[43m)\u001b[49m\u001b[43m \u001b[49m\u001b[43m\\\u001b[49m\n\u001b[1;32m---> 40\u001b[0m \u001b[43m    \u001b[49m\u001b[38;5;241;43m.\u001b[39;49m\u001b[43mwithColumn\u001b[49m\u001b[43m(\u001b[49m\u001b[38;5;124;43m'\u001b[39;49m\u001b[38;5;124;43mtemp_diff\u001b[39;49m\u001b[38;5;124;43m'\u001b[39;49m\u001b[43m,\u001b[49m\u001b[43m \u001b[49m\u001b[38;5;28;43mabs\u001b[39;49m\u001b[43m(\u001b[49m\u001b[43mcol\u001b[49m\u001b[43m(\u001b[49m\u001b[38;5;124;43m'\u001b[39;49m\u001b[38;5;124;43m1\u001b[39;49m\u001b[38;5;124;43m'\u001b[39;49m\u001b[43m)\u001b[49m\u001b[43m \u001b[49m\u001b[38;5;241;43m-\u001b[39;49m\u001b[43m \u001b[49m\u001b[43mcol\u001b[49m\u001b[43m(\u001b[49m\u001b[38;5;124;43m'\u001b[39;49m\u001b[38;5;124;43m7\u001b[39;49m\u001b[38;5;124;43m'\u001b[39;49m\u001b[43m)\u001b[49m\u001b[43m)\u001b[49m\u001b[43m)\u001b[49m \\\n\u001b[0;32m     41\u001b[0m     \u001b[38;5;241m.\u001b[39mgroupBy(\u001b[38;5;124m'\u001b[39m\u001b[38;5;124mCity\u001b[39m\u001b[38;5;124m'\u001b[39m) \\\n\u001b[0;32m     42\u001b[0m     \u001b[38;5;241m.\u001b[39magg(avg(col(\u001b[38;5;124m'\u001b[39m\u001b[38;5;124mtemp_diff\u001b[39m\u001b[38;5;124m'\u001b[39m))\u001b[38;5;241m.\u001b[39malias(\u001b[38;5;124m'\u001b[39m\u001b[38;5;124mavg_temp_diff\u001b[39m\u001b[38;5;124m'\u001b[39m)) \\\n\u001b[0;32m     43\u001b[0m     \u001b[38;5;241m.\u001b[39morderBy(col(\u001b[38;5;124m'\u001b[39m\u001b[38;5;124mavg_temp_diff\u001b[39m\u001b[38;5;124m'\u001b[39m)\u001b[38;5;241m.\u001b[39mdesc())\n\u001b[0;32m     45\u001b[0m max_temp_diff_city \u001b[38;5;241m=\u001b[39m jan_jul_diff_df\u001b[38;5;241m.\u001b[39mfirst()\n\u001b[0;32m     46\u001b[0m \u001b[38;5;28mprint\u001b[39m(\u001b[38;5;124mf\u001b[39m\u001b[38;5;124m\"\u001b[39m\u001b[38;5;124mCity with largest average January-July temperature difference: \u001b[39m\u001b[38;5;132;01m{\u001b[39;00mmax_temp_diff_city[\u001b[38;5;124m'\u001b[39m\u001b[38;5;124mCity\u001b[39m\u001b[38;5;124m'\u001b[39m]\u001b[38;5;132;01m}\u001b[39;00m\u001b[38;5;124m, Difference: \u001b[39m\u001b[38;5;132;01m{\u001b[39;00mmax_temp_diff_city[\u001b[38;5;124m'\u001b[39m\u001b[38;5;124mavg_temp_diff\u001b[39m\u001b[38;5;124m'\u001b[39m]\u001b[38;5;132;01m}\u001b[39;00m\u001b[38;5;124m\"\u001b[39m)\n",
      "File \u001b[1;32mc:\\Users\\MSI-PC\\AppData\\Local\\Programs\\Python\\Python310\\lib\\site-packages\\pyspark\\sql\\dataframe.py:5174\u001b[0m, in \u001b[0;36mDataFrame.withColumn\u001b[1;34m(self, colName, col)\u001b[0m\n\u001b[0;32m   5169\u001b[0m \u001b[38;5;28;01mif\u001b[39;00m \u001b[38;5;129;01mnot\u001b[39;00m \u001b[38;5;28misinstance\u001b[39m(col, Column):\n\u001b[0;32m   5170\u001b[0m     \u001b[38;5;28;01mraise\u001b[39;00m PySparkTypeError(\n\u001b[0;32m   5171\u001b[0m         error_class\u001b[38;5;241m=\u001b[39m\u001b[38;5;124m\"\u001b[39m\u001b[38;5;124mNOT_COLUMN\u001b[39m\u001b[38;5;124m\"\u001b[39m,\n\u001b[0;32m   5172\u001b[0m         message_parameters\u001b[38;5;241m=\u001b[39m{\u001b[38;5;124m\"\u001b[39m\u001b[38;5;124marg_name\u001b[39m\u001b[38;5;124m\"\u001b[39m: \u001b[38;5;124m\"\u001b[39m\u001b[38;5;124mcol\u001b[39m\u001b[38;5;124m\"\u001b[39m, \u001b[38;5;124m\"\u001b[39m\u001b[38;5;124marg_type\u001b[39m\u001b[38;5;124m\"\u001b[39m: \u001b[38;5;28mtype\u001b[39m(col)\u001b[38;5;241m.\u001b[39m\u001b[38;5;18m__name__\u001b[39m},\n\u001b[0;32m   5173\u001b[0m     )\n\u001b[1;32m-> 5174\u001b[0m \u001b[38;5;28;01mreturn\u001b[39;00m DataFrame(\u001b[38;5;28;43mself\u001b[39;49m\u001b[38;5;241;43m.\u001b[39;49m\u001b[43m_jdf\u001b[49m\u001b[38;5;241;43m.\u001b[39;49m\u001b[43mwithColumn\u001b[49m\u001b[43m(\u001b[49m\u001b[43mcolName\u001b[49m\u001b[43m,\u001b[49m\u001b[43m \u001b[49m\u001b[43mcol\u001b[49m\u001b[38;5;241;43m.\u001b[39;49m\u001b[43m_jc\u001b[49m\u001b[43m)\u001b[49m, \u001b[38;5;28mself\u001b[39m\u001b[38;5;241m.\u001b[39msparkSession)\n",
      "File \u001b[1;32mc:\\Users\\MSI-PC\\AppData\\Local\\Programs\\Python\\Python310\\lib\\site-packages\\py4j\\java_gateway.py:1322\u001b[0m, in \u001b[0;36mJavaMember.__call__\u001b[1;34m(self, *args)\u001b[0m\n\u001b[0;32m   1316\u001b[0m command \u001b[38;5;241m=\u001b[39m proto\u001b[38;5;241m.\u001b[39mCALL_COMMAND_NAME \u001b[38;5;241m+\u001b[39m\\\n\u001b[0;32m   1317\u001b[0m     \u001b[38;5;28mself\u001b[39m\u001b[38;5;241m.\u001b[39mcommand_header \u001b[38;5;241m+\u001b[39m\\\n\u001b[0;32m   1318\u001b[0m     args_command \u001b[38;5;241m+\u001b[39m\\\n\u001b[0;32m   1319\u001b[0m     proto\u001b[38;5;241m.\u001b[39mEND_COMMAND_PART\n\u001b[0;32m   1321\u001b[0m answer \u001b[38;5;241m=\u001b[39m \u001b[38;5;28mself\u001b[39m\u001b[38;5;241m.\u001b[39mgateway_client\u001b[38;5;241m.\u001b[39msend_command(command)\n\u001b[1;32m-> 1322\u001b[0m return_value \u001b[38;5;241m=\u001b[39m \u001b[43mget_return_value\u001b[49m\u001b[43m(\u001b[49m\n\u001b[0;32m   1323\u001b[0m \u001b[43m    \u001b[49m\u001b[43manswer\u001b[49m\u001b[43m,\u001b[49m\u001b[43m \u001b[49m\u001b[38;5;28;43mself\u001b[39;49m\u001b[38;5;241;43m.\u001b[39;49m\u001b[43mgateway_client\u001b[49m\u001b[43m,\u001b[49m\u001b[43m \u001b[49m\u001b[38;5;28;43mself\u001b[39;49m\u001b[38;5;241;43m.\u001b[39;49m\u001b[43mtarget_id\u001b[49m\u001b[43m,\u001b[49m\u001b[43m \u001b[49m\u001b[38;5;28;43mself\u001b[39;49m\u001b[38;5;241;43m.\u001b[39;49m\u001b[43mname\u001b[49m\u001b[43m)\u001b[49m\n\u001b[0;32m   1325\u001b[0m \u001b[38;5;28;01mfor\u001b[39;00m temp_arg \u001b[38;5;129;01min\u001b[39;00m temp_args:\n\u001b[0;32m   1326\u001b[0m     \u001b[38;5;28;01mif\u001b[39;00m \u001b[38;5;28mhasattr\u001b[39m(temp_arg, \u001b[38;5;124m\"\u001b[39m\u001b[38;5;124m_detach\u001b[39m\u001b[38;5;124m\"\u001b[39m):\n",
      "File \u001b[1;32mc:\\Users\\MSI-PC\\AppData\\Local\\Programs\\Python\\Python310\\lib\\site-packages\\pyspark\\errors\\exceptions\\captured.py:185\u001b[0m, in \u001b[0;36mcapture_sql_exception.<locals>.deco\u001b[1;34m(*a, **kw)\u001b[0m\n\u001b[0;32m    181\u001b[0m converted \u001b[38;5;241m=\u001b[39m convert_exception(e\u001b[38;5;241m.\u001b[39mjava_exception)\n\u001b[0;32m    182\u001b[0m \u001b[38;5;28;01mif\u001b[39;00m \u001b[38;5;129;01mnot\u001b[39;00m \u001b[38;5;28misinstance\u001b[39m(converted, UnknownException):\n\u001b[0;32m    183\u001b[0m     \u001b[38;5;66;03m# Hide where the exception came from that shows a non-Pythonic\u001b[39;00m\n\u001b[0;32m    184\u001b[0m     \u001b[38;5;66;03m# JVM exception message.\u001b[39;00m\n\u001b[1;32m--> 185\u001b[0m     \u001b[38;5;28;01mraise\u001b[39;00m converted \u001b[38;5;28;01mfrom\u001b[39;00m \u001b[38;5;28mNone\u001b[39m\n\u001b[0;32m    186\u001b[0m \u001b[38;5;28;01melse\u001b[39;00m:\n\u001b[0;32m    187\u001b[0m     \u001b[38;5;28;01mraise\u001b[39;00m\n",
      "\u001b[1;31mAnalysisException\u001b[0m: [UNRESOLVED_COLUMN.WITH_SUGGESTION] A column or function parameter with name `1` cannot be resolved. Did you mean one of the following? [`dt`, `City`, `year`, `month`, `Country`].;\n'Project [dt#622, AverageTemperature#631, AverageTemperatureUncertainty#610, City#611, Country#612, Latitude#613, Longitude#614, year#701, month#710, abs(('1 - '7)) AS temp_diff#720]\n+- Filter month#710 IN (1,7)\n   +- Project [dt#622, AverageTemperature#631, AverageTemperatureUncertainty#610, City#611, Country#612, Latitude#613, Longitude#614, year#701, month(dt#622) AS month#710]\n      +- Project [dt#622, AverageTemperature#631, AverageTemperatureUncertainty#610, City#611, Country#612, Latitude#613, Longitude#614, year(dt#622) AS year#701]\n         +- Project [dt#622, round(AverageTemperature#609, 2) AS AverageTemperature#631, AverageTemperatureUncertainty#610, City#611, Country#612, Latitude#613, Longitude#614]\n            +- Project [to_date(dt#608, Some(yyyy-MM-dd), Some(GMT+03:00), false) AS dt#622, AverageTemperature#609, AverageTemperatureUncertainty#610, City#611, Country#612, Latitude#613, Longitude#614]\n               +- Relation [dt#608,AverageTemperature#609,AverageTemperatureUncertainty#610,City#611,Country#612,Latitude#613,Longitude#614] csv\n"
     ]
    }
   ],
   "source": []
  },
  {
   "cell_type": "markdown",
   "metadata": {},
   "source": []
  }
 ],
 "metadata": {
  "kernelspec": {
   "display_name": "Python 3.10.6 64-bit",
   "language": "python",
   "name": "python3"
  },
  "language_info": {
   "codemirror_mode": {
    "name": "ipython",
    "version": 3
   },
   "file_extension": ".py",
   "mimetype": "text/x-python",
   "name": "python",
   "nbconvert_exporter": "python",
   "pygments_lexer": "ipython3",
   "version": "3.10.8"
  },
  "orig_nbformat": 4,
  "vscode": {
   "interpreter": {
    "hash": "916dbcbb3f70747c44a77c7bcd40155683ae19c65e1c03b4aa3499c5328201f1"
   }
  }
 },
 "nbformat": 4,
 "nbformat_minor": 2
}
